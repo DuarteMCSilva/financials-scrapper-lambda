{
 "cells": [
  {
   "cell_type": "code",
   "execution_count": 32,
   "metadata": {},
   "outputs": [
    {
     "name": "stdout",
     "output_type": "stream",
     "text": [
      "{'address1': '2211 North First Street', 'city': 'San Jose', 'state': 'CA', 'zip': '95131', 'country': 'United States', 'phone': '408 967 1000', 'website': 'https://www.paypal.com', 'industry': 'Credit Services', 'industryKey': 'credit-services', 'industryDisp': 'Credit Services', 'sector': 'Financial Services', 'sectorKey': 'financial-services', 'sectorDisp': 'Financial Services', 'longBusinessSummary': 'PayPal Holdings, Inc. operates a technology platform that enables digital payments on behalf of merchants and consumers worldwide. It operates a two-sided network at scale that connects merchants and consumers that enables its customers to connect, transact, and send and receive payments through online and in person, as well as transfer and withdraw funds using various funding sources, such as bank accounts, PayPal or Venmo account balance, PayPal and Venmo branded credit products comprising its installment products, credit and debit cards, and cryptocurrencies, as well as other stored value products, including gift cards and eligible rewards. The company provides payment solutions under the PayPal, PayPal Credit, Braintree, Venmo, Xoom, Zettle, Hyperwallet, Honey, and Paidy names. The company was founded in 1998 and is headquartered in San Jose, California.', 'fullTimeEmployees': 27200, 'companyOfficers': [{'maxAge': 1, 'name': 'Mr. James Alexander Chriss', 'age': 46, 'title': 'President, CEO & Director', 'yearBorn': 1978, 'fiscalYear': 2023, 'totalPay': 1636274, 'exercisedValue': 0, 'unexercisedValue': 0}, {'maxAge': 1, 'name': 'Ms. Jamie S. Miller', 'age': 55, 'title': 'Executive VP & CFO', 'yearBorn': 1969, 'fiscalYear': 2023, 'totalPay': 3104424, 'exercisedValue': 0, 'unexercisedValue': 0}, {'maxAge': 1, 'name': 'Mr. John C. Kim', 'age': 52, 'title': 'Executive VP & Chief Product Officer', 'yearBorn': 1972, 'fiscalYear': 2023, 'totalPay': 1763200, 'exercisedValue': 0, 'unexercisedValue': 0}, {'maxAge': 1, 'name': 'Ms. Michelle  Gill', 'age': 51, 'title': 'Executive VP and GM of Small Business & Financial Services Group', 'yearBorn': 1973, 'fiscalYear': 2023, 'totalPay': 1081692, 'exercisedValue': 0, 'unexercisedValue': 0}, {'maxAge': 1, 'name': 'Mr. Christopher  Natali', 'age': 47, 'title': 'Chief Accounting Officer', 'yearBorn': 1977, 'fiscalYear': 2023, 'exercisedValue': 0, 'unexercisedValue': 0}, {'maxAge': 1, 'name': 'Mr. Srinivasan  Venkatesan', 'age': 53, 'title': 'EVP & Chief Technology Officer', 'yearBorn': 1971, 'fiscalYear': 2023, 'exercisedValue': 0, 'unexercisedValue': 0}, {'maxAge': 1, 'name': 'Mr. Steven Eric Winoker', 'title': 'Senior VP & Chief Investor Relations Officer', 'fiscalYear': 2023, 'exercisedValue': 0, 'unexercisedValue': 0}, {'maxAge': 1, 'name': 'Mr. Bimal  Patel', 'title': 'Senior VP & General Counsel', 'fiscalYear': 2023, 'exercisedValue': 0, 'unexercisedValue': 0}, {'maxAge': 1, 'name': 'Ms. Amy  Bonitatibus', 'title': 'Senior VP & Chief Corporate Affairs Officer', 'fiscalYear': 2023, 'exercisedValue': 0, 'unexercisedValue': 0}, {'maxAge': 1, 'name': 'Mr. Kausik  Rajgopal', 'age': 49, 'title': 'Executive Vice President of Strategy, Corporate Development & Partnerships', 'yearBorn': 1975, 'fiscalYear': 2023, 'exercisedValue': 0, 'unexercisedValue': 0}], 'auditRisk': 7, 'boardRisk': 3, 'compensationRisk': 10, 'shareHolderRightsRisk': 5, 'overallRisk': 8, 'governanceEpochDate': 1738368000, 'compensationAsOfEpochDate': 1703980800, 'maxAge': 86400, 'priceHint': 2, 'previousClose': 78.57, 'open': 78.901, 'dayLow': 77.23, 'dayHigh': 79.49, 'regularMarketPreviousClose': 78.57, 'regularMarketOpen': 78.901, 'regularMarketDayLow': 77.23, 'regularMarketDayHigh': 79.49, 'beta': 1.436, 'trailingPE': 19.375938, 'forwardPE': 13.741361, 'volume': 13437799, 'regularMarketVolume': 13437799, 'averageVolume': 9694693, 'averageVolume10days': 15854510, 'averageDailyVolume10Day': 15854510, 'bid': 77.26, 'ask': 77.34, 'bidSize': 600, 'askSize': 600, 'marketCap': 76478291968, 'fiftyTwoWeekLow': 56.97, 'fiftyTwoWeekHigh': 93.66, 'priceToSalesTrailing12Months': 2.4312012, 'fiftyDayAverage': 87.4118, 'twoHundredDayAverage': 74.03427, 'currency': 'USD', 'enterpriseValue': 91076247552, 'profitMargins': 0.14076, 'floatShares': 999691618, 'sharesOutstanding': 989241984, 'sharesShort': 28494904, 'sharesShortPriorMonth': 25256846, 'sharesShortPreviousMonthDate': 1734048000, 'dateShortInterest': 1736899200, 'sharesPercentSharesOut': 0.028399998, 'heldPercentInsiders': 0.0023100001, 'heldPercentInstitutions': 0.74964994, 'shortRatio': 3.55, 'shortPercentOfFloat': 0.028499998, 'impliedSharesOutstanding': 1005369984, 'bookValue': 20.054, 'priceToBook': 3.8550909, 'lastFiscalYearEnd': 1703980800, 'nextFiscalYearEnd': 1735603200, 'mostRecentQuarter': 1727654400, 'earningsQuarterlyGrowth': -0.01, 'netIncomeToCommon': 4428000256, 'trailingEps': 3.99, 'forwardEps': 4.89, 'enterpriseToRevenue': 2.895, 'enterpriseToEbitda': 14.879, '52WeekChange': 0.2865702, 'SandP52WeekChange': 0.19995654, 'exchange': 'NMS', 'quoteType': 'EQUITY', 'symbol': 'PYPL', 'underlyingSymbol': 'PYPL', 'shortName': 'PayPal Holdings, Inc.', 'longName': 'PayPal Holdings, Inc.', 'firstTradeDateEpochUtc': 1436189400, 'timeZoneFullName': 'America/New_York', 'timeZoneShortName': 'EST', 'uuid': '68da608d-aec4-350b-8dec-8a2691f5a0ef', 'messageBoardId': 'finmb_112732', 'gmtOffSetMilliseconds': -18000000, 'currentPrice': 77.31, 'targetHighPrice': 125.0, 'targetLowPrice': 70.0, 'targetMeanPrice': 95.01971, 'targetMedianPrice': 95.0, 'recommendationMean': 2.06818, 'recommendationKey': 'buy', 'numberOfAnalystOpinions': 35, 'totalCash': 11918999552, 'totalCashPerShare': 11.889, 'ebitda': 6120999936, 'totalDebt': 13258000384, 'quickRatio': 0.261, 'currentRatio': 1.247, 'totalRevenue': 31456999424, 'debtToEquity': 65.718, 'revenuePerShare': 29.966, 'returnOnAssets': 0.04343, 'returnOnEquity': 0.22188, 'grossProfits': 12613000192, 'freeCashflow': 3762625024, 'operatingCashflow': 7670000128, 'earningsGrowth': 0.065, 'revenueGrowth': 0.058, 'grossMargins': 0.40096, 'ebitdaMargins': 0.19458, 'operatingMargins': 0.18185, 'financialCurrency': 'USD', 'trailingPegRatio': 1.1712}\n"
     ]
    },
    {
     "data": {
      "text/plain": [
       "{'statusCode': 200,\n",
       " 'body': '{\"ticker\": \"PYPL\", \"sector\": \"Financial Services\", \"currency\": \"USD\", \"marketCap\": 76478295367.89844, \"shares\": 989241984, \"beta\": 1.436, \"state\": {\"debt\": 9879000000.0, \"cash\": 6561000000.0}, \"momentum\": [{\"period\": \"2021\", \"revenue\": {\"value\": 25371000000.0}, \"grossProfit\": {\"value\": 13996000000.0}, \"netIncome\": {\"value\": 4169000000.0}, \"fcf\": {\"value\": 4889000000.0}}, {\"period\": \"2022\", \"revenue\": {\"value\": 27518000000.0, \"change\": 1.0846241772102005}, \"grossProfit\": {\"value\": 13773000000.0, \"change\": 0.9840668762503573}, \"netIncome\": {\"value\": 2419000000.0, \"change\": 0.5802350683617175}, \"fcf\": {\"value\": 5107000000.0, \"change\": 1.044589895684189}}, {\"period\": \"2023\", \"revenue\": {\"value\": 29771000000.0, \"change\": 1.0818736826804274}, \"grossProfit\": {\"value\": 13704000000.0, \"change\": 0.9949901982138968}, \"netIncome\": {\"value\": 4246000000.0, \"change\": 1.7552707730467134}, \"fcf\": {\"value\": 4220000000.0, \"change\": 0.8263168200509106}}, {\"period\": \"2024\", \"revenue\": {\"value\": 31797000000.0, \"change\": 1.0680528030633838}, \"grossProfit\": {\"value\": 14658000000.0, \"change\": 1.069614711033275}, \"netIncome\": {\"value\": 4147000000.0, \"change\": 0.9766839378238342}, \"fcf\": {\"value\": 6767000000.0, \"change\": 1.6035545023696682}}]}',\n",
       " 'headers': {'Content-Type': 'application/json',\n",
       "  'Access-Control-Allow-Origin': 'http://localhost:4200',\n",
       "  'Access-Control-Allow-Methods': 'POST, GET'}}"
      ]
     },
     "execution_count": 32,
     "metadata": {},
     "output_type": "execute_result"
    }
   ],
   "source": [
    "import importlib\n",
    "import app\n",
    "importlib.reload(app)\n",
    "\n",
    "\n",
    "event = {\n",
    "    'queryStringParameters': {\n",
    "        'ticker': 'PYPL'\n",
    "    }\n",
    "}\n",
    "\n",
    "app.handle_get_financials(event, None)"
   ]
  },
  {
   "cell_type": "code",
   "execution_count": null,
   "metadata": {},
   "outputs": [],
   "source": []
  }
 ],
 "metadata": {
  "kernelspec": {
   "display_name": "Python 3",
   "language": "python",
   "name": "python3"
  },
  "language_info": {
   "codemirror_mode": {
    "name": "ipython",
    "version": 3
   },
   "file_extension": ".py",
   "mimetype": "text/x-python",
   "name": "python",
   "nbconvert_exporter": "python",
   "pygments_lexer": "ipython3",
   "version": "3.9.13"
  }
 },
 "nbformat": 4,
 "nbformat_minor": 2
}
