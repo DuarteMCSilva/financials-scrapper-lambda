{
 "cells": [
  {
   "cell_type": "code",
   "execution_count": 12,
   "metadata": {},
   "outputs": [
    {
     "name": "stdout",
     "output_type": "stream",
     "text": [
      "HELLO\n"
     ]
    },
    {
     "data": {
      "text/plain": [
       "{'BABA': 2131,\n",
       " 'statusCode': 200,\n",
       " 'body': '{\"ticker\": \"PYPL\", \"sector\": \"Financial Services\", \"currency\": \"USD\", \"marketCap\": 76478295367.89844, \"shares\": 989241984, \"beta\": 1.436, \"state\": {\"debt\": 9879000000.0, \"cash\": 6561000000.0}, \"momentum\": [{\"period\": \"2021\", \"revenue\": {\"value\": 25371000000.0}, \"grossProfit\": {\"value\": 13996000000.0}, \"netIncome\": {\"value\": 4169000000.0}, \"fcf\": {\"value\": 4889000000.0}}, {\"period\": \"2022\", \"revenue\": {\"value\": 27518000000.0, \"change\": 1.0846241772102005}, \"grossProfit\": {\"value\": 13773000000.0, \"change\": 0.9840668762503573}, \"netIncome\": {\"value\": 2419000000.0, \"change\": 0.5802350683617175}, \"fcf\": {\"value\": 5107000000.0, \"change\": 1.044589895684189}}, {\"period\": \"2023\", \"revenue\": {\"value\": 29771000000.0, \"change\": 1.0818736826804274}, \"grossProfit\": {\"value\": 13704000000.0, \"change\": 0.9949901982138968}, \"netIncome\": {\"value\": 4246000000.0, \"change\": 1.7552707730467134}, \"fcf\": {\"value\": 4220000000.0, \"change\": 0.8263168200509106}}, {\"period\": \"2024\", \"revenue\": {\"value\": 31797000000.0, \"change\": 1.0680528030633838}, \"grossProfit\": {\"value\": 14658000000.0, \"change\": 1.069614711033275}, \"netIncome\": {\"value\": 4147000000.0, \"change\": 0.9766839378238342}, \"fcf\": {\"value\": 6767000000.0, \"change\": 1.6035545023696682}}]}',\n",
       " 'headers': {'Content-Type': 'application/json',\n",
       "  'Access-Control-Allow-Origin': 'http://localhost:4200',\n",
       "  'Access-Control-Allow-Methods': 'POST, GET'}}"
      ]
     },
     "execution_count": 12,
     "metadata": {},
     "output_type": "execute_result"
    }
   ],
   "source": [
    "import importlib\n",
    "import app\n",
    "importlib.reload(app)\n",
    "\n",
    "\n",
    "event = {\n",
    "    'queryStringParameters': {\n",
    "        'ticker': 'PYPL'\n",
    "    }\n",
    "}\n",
    "\n",
    "app.handle_get_financials(event, None)"
   ]
  }
 ],
 "metadata": {
  "kernelspec": {
   "display_name": "Python 3",
   "language": "python",
   "name": "python3"
  },
  "language_info": {
   "codemirror_mode": {
    "name": "ipython",
    "version": 3
   },
   "file_extension": ".py",
   "mimetype": "text/x-python",
   "name": "python",
   "nbconvert_exporter": "python",
   "pygments_lexer": "ipython3",
   "version": "3.9.13"
  }
 },
 "nbformat": 4,
 "nbformat_minor": 2
}
